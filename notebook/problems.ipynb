{
    "cells": [
        {
            "cell_type": "markdown",
            "id": "ac622319",
            "metadata": {},
            "source": [
                "# Descriptive statistics problems"
            ]
        },
        {
            "cell_type": "markdown",
            "id": "aa8993e4",
            "metadata": {},
            "source": [
                "### Exercise 1"
            ]
        },
        {
            "cell_type": "markdown",
            "id": "5e0ab0d5",
            "metadata": {},
            "source": [
                "We will use Numpy to obtain information to describe statistically.\n",
                "\n",
                "- Generate an array of 100 elements following a normal distribution.\n",
                "- Generate an array of 100 elements following a chi-square distribution with 3 degrees of freedom.\n",
                "- Calculate the main metrics and statistical measures that best describe the two vectors."
            ]
        },
        {
            "cell_type": "code",
            "execution_count": 22,
            "id": "34720ab6",
            "metadata": {},
            "outputs": [
                {
                    "name": "stdout",
                    "output_type": "stream",
                    "text": [
                        "Normal vector: [ 0.18039373 -0.49073877  1.3214929   1.02851358 -0.19684476 -0.16938589\n",
                        " -0.07429171  0.31122804 -0.23021809 -1.94243746 -0.70597645 -0.08577839\n",
                        " -1.25824802  0.6182853   0.15647548 -1.37883693 -0.03116084 -0.65835683\n",
                        "  0.2165303   0.21371515  0.32398728  0.4382046   0.14476028 -0.78050173\n",
                        "  0.35581318  0.47019171  0.63226222 -0.44929969 -0.29303177  0.23659252\n",
                        " -1.30825662 -0.34211186  0.26285297  0.21503749 -0.44733058  0.32465044\n",
                        "  1.22684228  0.3604849  -0.86599562  0.81110212  0.11440272  0.89168192\n",
                        "  0.63046669  0.44712344 -0.45550018  0.3488187   2.27354132  2.03821994\n",
                        "  1.29844545  0.22145477 -1.53966679 -1.5205572   0.09567236  0.6976828\n",
                        " -0.2714723   0.90976519  0.6585764   0.61387216  2.05612247  1.64641983\n",
                        " -1.2139573  -0.44709607 -1.85595794  0.52777993 -0.36762262 -2.6456725\n",
                        " -0.38975312 -0.5847016   0.02790663  3.05475555 -1.73272175  1.12161744\n",
                        " -1.08645488 -1.2901137   0.6285643   0.01447374  0.92320825  1.19264314\n",
                        " -0.04057362 -0.31233636 -2.18497352 -0.3862268   1.64321576 -0.12487497\n",
                        " -1.90051141 -1.29717026  0.02205734 -0.53204276 -0.02652177 -0.06134126\n",
                        "  0.35547486 -0.82989891 -0.11718858 -1.54379389  0.94504782 -0.19419905\n",
                        "  0.63272539 -0.43846095 -1.93200688  0.55889809]\n",
                        "Chi-square vector: [ 6.09052245 11.6016422   0.13434338  1.81951655  2.73620856  1.46498\n",
                        "  4.40534127  3.33967542  1.58650285  5.41730133  3.65456045  0.7220288\n",
                        "  1.35056052  0.7004877   2.90414741  2.98760745  7.88564852  1.05008584\n",
                        "  2.83582649  6.56076898  0.09657945  1.23485161  1.88580935  2.88987666\n",
                        "  1.87235682  2.47655035  2.80939521  1.79380978  4.59209316  1.88931671\n",
                        "  3.17973926  0.39342682  0.63068337  7.41666795  1.7123738   2.25836568\n",
                        "  0.8976208   5.0261165   3.61189579  0.3058661   2.55331597  4.03273597\n",
                        "  3.1354253   0.19814289  1.61990604  0.71485589  0.47683117  4.88332281\n",
                        "  0.64401175  0.39054128  1.46779537  2.375165    1.00408655  1.89601558\n",
                        "  1.5808203   2.7888993   2.12888407  7.89834639  1.38649179  1.06169783\n",
                        "  0.32695464  1.71361579  2.12744362 10.7325485  11.22544553  0.48178591\n",
                        "  0.48590245  3.8564493   0.59282423  3.99877634  2.23971505  0.22878666\n",
                        "  1.13724466  1.53950878  3.61920818  2.10558141  1.14040799  4.45054828\n",
                        "  2.43871924  3.09852369  2.54653024  2.50708444  1.5185614   3.80819927\n",
                        "  1.52248631  0.55019047  1.77911481  5.25881119  0.89825423  1.11718808\n",
                        "  5.01498948  3.76449244  4.90317109  0.96156172  5.05238211  2.23596972\n",
                        "  1.36960067  3.551321    0.70646309  2.63384394]\n"
                    ]
                }
            ],
            "source": [
                "import numpy as np \n",
                "import statistics as stats\n",
                "from scipy.stats import skew\n",
                "from scipy.stats import kurtosis\n",
                "\n",
                "\n",
                "arr1 = np.random.normal(size=100)\n",
                "print(f\"Normal vector: {arr1}\")\n",
                "\n",
                "arr2 = np.random.chisquare(3, size=100)\n",
                "print(f\"Chi-square vector: {arr2}\")\n"
            ]
        },
        {
            "cell_type": "code",
            "execution_count": 23,
            "id": "6b621b90",
            "metadata": {},
            "outputs": [
                {
                    "name": "stdout",
                    "output_type": "stream",
                    "text": [
                        "Media1: -0.02592120073173925\n",
                        "Media2: 2.6769864857665038\n",
                        "Mediana1: 0.018265541655321838\n",
                        "Mediana2: 2.1165125150994353\n",
                        "Moda1: 0.1803937288249027\n",
                        "Moda2: 6.090522454837403\n",
                        "Rango1: 8.741827216287572\n",
                        "Rango2: 11.505062745010493\n",
                        "Varianza1: 1.0110783652551698\n",
                        "Varianza2: 5.3372417746934975\n",
                        "Desviación estándar1: 1.0055239257497406\n",
                        "Desviación estándar2: 2.3102471241608544\n",
                        "Asimetría1: 0.007103760795952824\n",
                        "Asimetría2: 1.8080161380255295\n",
                        "Curtosis1: 0.516240069116821\n",
                        "Curtosis2: 3.844839568615357\n"
                    ]
                }
            ],
            "source": [
                "import numpy as np \n",
                "import statistics as stats\n",
                "from scipy.stats import skew\n",
                "from scipy.stats import kurtosis\n",
                "\n",
                "#MEDIDAS DE TENDENCIA CENTRAL\n",
                "\n",
                "#MEAN\n",
                "\n",
                "mean1 = stats.mean(arr1)\n",
                "print(f\"Media1: {mean1}\")\n",
                "\n",
                "mean2 = stats.mean(arr2)\n",
                "print(f\"Media2: {mean2}\")\n",
                "\n",
                "#MEDIAN\n",
                "\n",
                "median1 = stats.median(arr1)\n",
                "print(f\"Mediana1: {median1}\")\n",
                "\n",
                "median2 = stats.median(arr2)\n",
                "print(f\"Mediana2: {median2}\")\n",
                "\n",
                "#MODE\n",
                "\n",
                "mode1 = stats.mode(arr1)\n",
                "print(f\"Moda1: {mode1}\")\n",
                "\n",
                "mode2 = stats.mode(arr2)\n",
                "print(f\"Moda2: {mode2}\")\n",
                "\n",
                "#MEDIDAS DE DISPERSIÓN\n",
                "\n",
                "#RANGO\n",
                "\n",
                "range1 = max(arr1) - min(arr1)\n",
                "print(f\"Rango1: {range2}\")\n",
                "\n",
                "range2 = max(arr2) - min(arr2)\n",
                "print(f\"Rango2: {range2}\")\n",
                "\n",
                "#VARIANZA Y DESVIACION ESTANDAR\n",
                "\n",
                "variance1 = stats.variance(arr1)\n",
                "print(f\"Varianza1: {variance1}\")\n",
                "\n",
                "variance2 = stats.variance(arr2)\n",
                "print(f\"Varianza2: {variance2}\")\n",
                "\n",
                "std1 = stats.stdev(arr1)\n",
                "print(f\"Desviación estándar1: {std1}\")\n",
                "\n",
                "std2 = stats.stdev(arr2)\n",
                "print(f\"Desviación estándar2: {std2}\")\n",
                "\n",
                "#MEDIDAS DE FORMA\n",
                "\n",
                "#ASIMETRIA\n",
                "\n",
                "skewness1 = skew(arr1)\n",
                "print(f\"Asimetría1: {skewness1}\")\n",
                "\n",
                "skewness2 = skew(arr2)\n",
                "print(f\"Asimetría2: {skewness2}\")\n",
                "\n",
                "#CURTOSIS\n",
                "\n",
                "kurt1 = kurtosis(arr1)\n",
                "print(f\"Curtosis1: {kurt1}\")\n",
                "\n",
                "kurt2 = kurtosis(arr2)\n",
                "print(f\"Curtosis2: {kurt2}\")"
            ]
        },
        {
            "cell_type": "markdown",
            "id": "46c70c3d",
            "metadata": {},
            "source": [
                "### Exercise 2\n",
                "\n",
                "Write a Python program to calculate the standard deviation of the following data:\n",
                "\n",
                "```py\n",
                "data = [4, 2, 5, 8, 6]\n",
                "```"
            ]
        },
        {
            "cell_type": "code",
            "execution_count": 25,
            "id": "d590308e",
            "metadata": {},
            "outputs": [
                {
                    "name": "stdout",
                    "output_type": "stream",
                    "text": [
                        "Desviación estándar: 2.23606797749979\n"
                    ]
                }
            ],
            "source": [
                "data = [4, 2, 5, 8, 6]\n",
                "\n",
                "std = stats.stdev(data)\n",
                "print(f\"Desviación estándar: {std}\")"
            ]
        }
    ],
    "metadata": {
        "interpreter": {
            "hash": "9248718ffe6ce6938b217e69dbcc175ea21f4c6b28a317e96c05334edae734bb"
        },
        "kernelspec": {
            "display_name": "Python 3.9.12 ('ML-BOOTCAMP')",
            "language": "python",
            "name": "python3"
        },
        "language_info": {
            "codemirror_mode": {
                "name": "ipython",
                "version": 3
            },
            "file_extension": ".py",
            "mimetype": "text/x-python",
            "name": "python",
            "nbconvert_exporter": "python",
            "pygments_lexer": "ipython3",
            "version": "3.12.1"
        }
    },
    "nbformat": 4,
    "nbformat_minor": 5
}
